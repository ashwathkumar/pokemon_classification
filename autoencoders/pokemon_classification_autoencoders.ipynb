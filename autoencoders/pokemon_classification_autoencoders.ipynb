{
 "cells": [
  {
   "cell_type": "markdown",
   "metadata": {},
   "source": [
    "# Pokemon classification using autoencoders"
   ]
  },
  {
   "cell_type": "markdown",
   "metadata": {},
   "source": [
    "Since not all image datasets have enough sample size to train a network fully, I am trying to implement an auto encoder along with cosine distances as a makeshift classifier. \n",
    "\n",
    "This dataset has only one image per pokemon. I am going to train an auto encoder on this dataset and use the encoder part alone to encode a new image. I can then try to classify that image to the closest pokemon on the n-dimension encoded space using cosine distance. "
   ]
  },
  {
   "cell_type": "markdown",
   "metadata": {},
   "source": [
    "Dataset Source : https://www.kaggle.com/vishalsubbiah/pokemon-images-and-types/version/3#images.zip"
   ]
  },
  {
   "cell_type": "markdown",
   "metadata": {},
   "source": [
    "First import the necessary libs"
   ]
  },
  {
   "cell_type": "code",
   "execution_count": 1,
   "metadata": {},
   "outputs": [
    {
     "name": "stderr",
     "output_type": "stream",
     "text": [
      "Using TensorFlow backend.\n"
     ]
    }
   ],
   "source": [
    "import keras\n",
    "from matplotlib import pyplot as plt\n",
    "import numpy as np\n",
    "import pandas as pd\n",
    "import gzip\n",
    "import matplotlib.image as mpimg\n",
    "%matplotlib inline\n",
    "from keras.layers import Input,Dense,Flatten,Dropout,merge,Reshape,Conv2D,MaxPooling2D,UpSampling2D,Conv2DTranspose\n",
    "from keras.layers.normalization import BatchNormalization\n",
    "from keras.models import Model,Sequential,load_model\n",
    "from keras.callbacks import ModelCheckpoint\n",
    "from keras.optimizers import Adadelta, RMSprop,SGD,Adam\n",
    "from keras import regularizers\n",
    "from keras.utils import to_categorical\n",
    "from keras.preprocessing.image import ImageDataGenerator, array_to_img, img_to_array, load_img\n",
    "from PIL import Image\n",
    "from keras.applications.imagenet_utils import preprocess_input\n",
    "import glob\n",
    "import pickle\n",
    "from sklearn.metrics.pairwise import cosine_similarity"
   ]
  },
  {
   "cell_type": "markdown",
   "metadata": {},
   "source": [
    "# Dataset\n",
    "\n",
    "Let me take a look at an example image from the dataset. I also want to see the size of the images so I can specify the model accordingly. "
   ]
  },
  {
   "cell_type": "code",
   "execution_count": 3,
   "metadata": {},
   "outputs": [
    {
     "name": "stdout",
     "output_type": "stream",
     "text": [
      "(120, 120, 3)\n"
     ]
    },
    {
     "data": {
      "image/png": "[encoded data removed]",
      "text/plain": [
       "<PIL.Image.Image image mode=RGB size=120x120 at 0x12CCCA88>"
      ]
     },
     "execution_count": 3,
     "metadata": {},
     "output_type": "execute_result"
    }
   ],
   "source": [
    "image = load_img(\"images/all/blastoise.png\")\n",
    "image = img_to_array(image)\n",
    "print (image.shape)\n",
    "array_to_img(image)"
   ]
  },
  {
   "cell_type": "code",
   "execution_count": 4,
   "metadata": {},
   "outputs": [
    {
     "name": "stdout",
     "output_type": "stream",
     "text": [
      "(120, 120, 3)\n"
     ]
    },
    {
     "data": {
      "image/png": "[encoded data removed]",
      "text/plain": [
       "<PIL.Image.Image image mode=RGB size=120x120 at 0x1339B988>"
      ]
     },
     "execution_count": 4,
     "metadata": {},
     "output_type": "execute_result"
    }
   ],
   "source": [
    "image = load_img(\"images/all/charizard.png\")\n",
    "image = img_to_array(image)\n",
    "print (image.shape)\n",
    "array_to_img(image)"
   ]
  },
  {
   "cell_type": "markdown",
   "metadata": {},
   "source": [
    "# Model\n",
    "\n",
    "Let me specify the model I am going to use. I am using an autoencoder. My encoder and decoder parts are each going to have 3 layers. I will be using adam optimizer and a Mean square error loss function to train this autoencoder. The input layer is specified as 120,120,3 as that is the size of all the input images in the dataset. "
   ]
  },
  {
   "cell_type": "markdown",
   "metadata": {},
   "source": [
    "I am using 3 conv2D layers with relu activation in combination with max pooling to reduce dimension in the encoding part and conv2D with relu activation and up sampling layers in the decoding part. "
   ]
  },
  {
   "cell_type": "code",
   "execution_count": 130,
   "metadata": {},
   "outputs": [],
   "source": [
    "input_img = Input(shape=(120,120,3))\n",
    "x = Conv2D(16,(3,3), activation='relu', padding='same')(input_img)\n",
    "x = MaxPooling2D((2,2), padding='same')(x)\n",
    "x = Conv2D(8,(3,3), activation='relu', padding='same')(x)\n",
    "x = MaxPooling2D((2,2), padding='same')(x)\n",
    "x = Conv2D(8,(3,3), activation='relu', padding='same')(x)\n",
    "encoded = MaxPooling2D((3,3),padding='same',name='encoder' )(x)\n",
    "\n",
    "x = Conv2D(8, (3, 3), activation='relu', padding='same')(encoded)\n",
    "x = UpSampling2D((3, 3))(x)\n",
    "x = Conv2D(8, (3, 3), activation='relu', padding='same')(x)\n",
    "x = UpSampling2D((2, 2))(x)\n",
    "x = Conv2D(16, (3, 3), activation='relu',padding='same')(x)\n",
    "x = UpSampling2D((2, 2))(x)\n",
    "decoded = Conv2D(3, (3, 3), activation='sigmoid', padding='same')(x)\n",
    "\n",
    "autoencoder = Model(input_img, decoded)\n",
    "autoencoder.compile(optimizer='adam', loss='mse')"
   ]
  },
  {
   "cell_type": "markdown",
   "metadata": {},
   "source": [
    "The structure of my model looks like this"
   ]
  },
  {
   "cell_type": "code",
   "execution_count": 118,
   "metadata": {},
   "outputs": [
    {
     "name": "stdout",
     "output_type": "stream",
     "text": [
      "_________________________________________________________________\n",
      "Layer (type)                 Output Shape              Param #   \n",
      "=================================================================\n",
      "input_7 (InputLayer)         (None, 120, 120, 3)       0         \n",
      "_________________________________________________________________\n",
      "conv2d_43 (Conv2D)           (None, 120, 120, 16)      448       \n",
      "_________________________________________________________________\n",
      "max_pooling2d_13 (MaxPooling (None, 60, 60, 16)        0         \n",
      "_________________________________________________________________\n",
      "conv2d_44 (Conv2D)           (None, 60, 60, 8)         1160      \n",
      "_________________________________________________________________\n",
      "max_pooling2d_14 (MaxPooling (None, 30, 30, 8)         0         \n",
      "_________________________________________________________________\n",
      "conv2d_45 (Conv2D)           (None, 30, 30, 8)         584       \n",
      "_________________________________________________________________\n",
      "encoder (MaxPooling2D)       (None, 10, 10, 8)         0         \n",
      "_________________________________________________________________\n",
      "conv2d_46 (Conv2D)           (None, 10, 10, 8)         584       \n",
      "_________________________________________________________________\n",
      "up_sampling2d_19 (UpSampling (None, 30, 30, 8)         0         \n",
      "_________________________________________________________________\n",
      "conv2d_47 (Conv2D)           (None, 30, 30, 8)         584       \n",
      "_________________________________________________________________\n",
      "up_sampling2d_20 (UpSampling (None, 60, 60, 8)         0         \n",
      "_________________________________________________________________\n",
      "conv2d_48 (Conv2D)           (None, 60, 60, 16)        1168      \n",
      "_________________________________________________________________\n",
      "up_sampling2d_21 (UpSampling (None, 120, 120, 16)      0         \n",
      "_________________________________________________________________\n",
      "conv2d_49 (Conv2D)           (None, 120, 120, 3)       435       \n",
      "=================================================================\n",
      "Total params: 4,963\n",
      "Trainable params: 4,963\n",
      "Non-trainable params: 0\n",
      "_________________________________________________________________\n"
     ]
    }
   ],
   "source": [
    "autoencoder.summary()"
   ]
  },
  {
   "cell_type": "markdown",
   "metadata": {},
   "source": [
    "Declare an image generator that can be used to train the model. The target size is mentioned here for clarity. "
   ]
  },
  {
   "cell_type": "code",
   "execution_count": 119,
   "metadata": {},
   "outputs": [
    {
     "name": "stdout",
     "output_type": "stream",
     "text": [
      "Found 808 images belonging to 1 classes.\n"
     ]
    }
   ],
   "source": [
    "# Generate data from the images in a folder\n",
    "batch_size = 64\n",
    "train_datagen = ImageDataGenerator(rescale=1./255)\n",
    "train_generator = train_datagen.flow_from_directory(\n",
    "    'images/',\n",
    "    target_size=(120, 120),\n",
    "    batch_size=batch_size,\n",
    "    class_mode='input'\n",
    "    )"
   ]
  },
  {
   "cell_type": "markdown",
   "metadata": {},
   "source": [
    "Defining the fit generator. Using 13 steps per epoch so as to cover the entire dataset (808) with a batch size of 64. Training the network for 100 epochs."
   ]
  },
  {
   "cell_type": "code",
   "execution_count": 131,
   "metadata": {},
   "outputs": [
    {
     "name": "stdout",
     "output_type": "stream",
     "text": [
      "Epoch 1/100\n",
      "13/13 [==============================] - 15s 1s/step - loss: 0.2173 - val_loss: 0.2017\n",
      "Epoch 2/100\n",
      "13/13 [==============================] - 14s 1s/step - loss: 0.1626 - val_loss: 0.1171\n",
      "Epoch 3/100\n",
      "13/13 [==============================] - 14s 1s/step - loss: 0.0803 - val_loss: 0.0559\n",
      "Epoch 4/100\n",
      "13/13 [==============================] - 14s 1s/step - loss: 0.0504 - val_loss: 0.0496\n",
      "Epoch 5/100\n",
      "13/13 [==============================] - 14s 1s/step - loss: 0.0496 - val_loss: 0.0458\n",
      "Epoch 6/100\n",
      "13/13 [==============================] - 14s 1s/step - loss: 0.0475 - val_loss: 0.0457\n",
      "Epoch 7/100\n",
      "13/13 [==============================] - 14s 1s/step - loss: 0.0431 - val_loss: 0.0435\n",
      "Epoch 8/100\n",
      "13/13 [==============================] - 14s 1s/step - loss: 0.0433 - val_loss: 0.0401\n",
      "Epoch 9/100\n",
      "13/13 [==============================] - 14s 1s/step - loss: 0.0441 - val_loss: 0.0404\n",
      "Epoch 10/100\n",
      "13/13 [==============================] - 14s 1s/step - loss: 0.0429 - val_loss: 0.0411\n",
      "Epoch 11/100\n",
      "13/13 [==============================] - 14s 1s/step - loss: 0.0405 - val_loss: 0.0407\n",
      "Epoch 12/100\n",
      "13/13 [==============================] - 14s 1s/step - loss: 0.0424 - val_loss: 0.0422\n",
      "Epoch 13/100\n",
      "13/13 [==============================] - 14s 1s/step - loss: 0.0417 - val_loss: 0.0390\n",
      "Epoch 14/100\n",
      "13/13 [==============================] - 14s 1s/step - loss: 0.0405 - val_loss: 0.0416\n",
      "Epoch 15/100\n",
      "13/13 [==============================] - 14s 1s/step - loss: 0.0403 - val_loss: 0.0398\n",
      "Epoch 16/100\n",
      "13/13 [==============================] - 14s 1s/step - loss: 0.0415 - val_loss: 0.0391\n",
      "Epoch 17/100\n",
      "13/13 [==============================] - 14s 1s/step - loss: 0.0382 - val_loss: 0.0424\n",
      "Epoch 18/100\n",
      "13/13 [==============================] - 14s 1s/step - loss: 0.0366 - val_loss: 0.0403\n",
      "Epoch 19/100\n",
      "13/13 [==============================] - 14s 1s/step - loss: 0.0409 - val_loss: 0.0371\n",
      "Epoch 20/100\n",
      "13/13 [==============================] - 14s 1s/step - loss: 0.0392 - val_loss: 0.0390\n",
      "Epoch 21/100\n",
      "13/13 [==============================] - 14s 1s/step - loss: 0.0402 - val_loss: 0.0378\n",
      "Epoch 22/100\n",
      "13/13 [==============================] - 14s 1s/step - loss: 0.0372 - val_loss: 0.0358\n",
      "Epoch 23/100\n",
      "13/13 [==============================] - 14s 1s/step - loss: 0.0388 - val_loss: 0.0380\n",
      "Epoch 24/100\n",
      "13/13 [==============================] - 14s 1s/step - loss: 0.0389 - val_loss: 0.0379\n",
      "Epoch 25/100\n",
      "13/13 [==============================] - 14s 1s/step - loss: 0.0364 - val_loss: 0.0368\n",
      "Epoch 26/100\n",
      "13/13 [==============================] - 14s 1s/step - loss: 0.0382 - val_loss: 0.0363\n",
      "Epoch 27/100\n",
      "13/13 [==============================] - 14s 1s/step - loss: 0.0368 - val_loss: 0.0385\n",
      "Epoch 28/100\n",
      "13/13 [==============================] - 14s 1s/step - loss: 0.0363 - val_loss: 0.0339\n",
      "Epoch 29/100\n",
      "13/13 [==============================] - 14s 1s/step - loss: 0.0364 - val_loss: 0.0376\n",
      "Epoch 30/100\n",
      "13/13 [==============================] - 14s 1s/step - loss: 0.0351 - val_loss: 0.0372\n",
      "Epoch 31/100\n",
      "13/13 [==============================] - 14s 1s/step - loss: 0.0353 - val_loss: 0.0345\n",
      "Epoch 32/100\n",
      "13/13 [==============================] - 14s 1s/step - loss: 0.0359 - val_loss: 0.0330\n",
      "Epoch 33/100\n",
      "13/13 [==============================] - 14s 1s/step - loss: 0.0345 - val_loss: 0.0312\n",
      "Epoch 34/100\n",
      "13/13 [==============================] - 14s 1s/step - loss: 0.0288 - val_loss: 0.0285\n",
      "Epoch 35/100\n",
      "13/13 [==============================] - 14s 1s/step - loss: 0.0269 - val_loss: 0.0233\n",
      "Epoch 36/100\n",
      "13/13 [==============================] - 14s 1s/step - loss: 0.0236 - val_loss: 0.0204\n",
      "Epoch 37/100\n",
      "13/13 [==============================] - 14s 1s/step - loss: 0.0199 - val_loss: 0.0190\n",
      "Epoch 38/100\n",
      "13/13 [==============================] - 14s 1s/step - loss: 0.0189 - val_loss: 0.0189\n",
      "Epoch 39/100\n",
      "13/13 [==============================] - 14s 1s/step - loss: 0.0174 - val_loss: 0.0174\n",
      "Epoch 40/100\n",
      "13/13 [==============================] - 14s 1s/step - loss: 0.0170 - val_loss: 0.0163\n",
      "Epoch 41/100\n",
      "13/13 [==============================] - 14s 1s/step - loss: 0.0164 - val_loss: 0.0157\n",
      "Epoch 42/100\n",
      "13/13 [==============================] - 14s 1s/step - loss: 0.0159 - val_loss: 0.0155\n",
      "Epoch 43/100\n",
      "13/13 [==============================] - 14s 1s/step - loss: 0.0153 - val_loss: 0.0151\n",
      "Epoch 44/100\n",
      "13/13 [==============================] - 14s 1s/step - loss: 0.0153 - val_loss: 0.0152\n",
      "Epoch 45/100\n",
      "13/13 [==============================] - 14s 1s/step - loss: 0.0147 - val_loss: 0.0148\n",
      "Epoch 46/100\n",
      "13/13 [==============================] - 14s 1s/step - loss: 0.0147 - val_loss: 0.0146\n",
      "Epoch 47/100\n",
      "13/13 [==============================] - 14s 1s/step - loss: 0.0146 - val_loss: 0.0145\n",
      "Epoch 48/100\n",
      "13/13 [==============================] - 14s 1s/step - loss: 0.0145 - val_loss: 0.0142\n",
      "Epoch 49/100\n",
      "13/13 [==============================] - 14s 1s/step - loss: 0.0143 - val_loss: 0.0145\n",
      "Epoch 50/100\n",
      "13/13 [==============================] - 14s 1s/step - loss: 0.0141 - val_loss: 0.0145\n",
      "Epoch 51/100\n",
      "13/13 [==============================] - 14s 1s/step - loss: 0.0140 - val_loss: 0.0142\n",
      "Epoch 52/100\n",
      "13/13 [==============================] - 14s 1s/step - loss: 0.0144 - val_loss: 0.0139\n",
      "Epoch 53/100\n",
      "13/13 [==============================] - 14s 1s/step - loss: 0.0142 - val_loss: 0.0140\n",
      "Epoch 54/100\n",
      "13/13 [==============================] - 14s 1s/step - loss: 0.0140 - val_loss: 0.0135\n",
      "Epoch 55/100\n",
      "13/13 [==============================] - 14s 1s/step - loss: 0.0139 - val_loss: 0.0140\n",
      "Epoch 56/100\n",
      "13/13 [==============================] - 14s 1s/step - loss: 0.0140 - val_loss: 0.0141\n",
      "Epoch 57/100\n",
      "13/13 [==============================] - 14s 1s/step - loss: 0.0140 - val_loss: 0.0142\n",
      "Epoch 58/100\n",
      "13/13 [==============================] - 14s 1s/step - loss: 0.0137 - val_loss: 0.0137\n",
      "Epoch 59/100\n",
      "13/13 [==============================] - 14s 1s/step - loss: 0.0136 - val_loss: 0.0135\n",
      "Epoch 60/100\n",
      "13/13 [==============================] - 14s 1s/step - loss: 0.0137 - val_loss: 0.0134\n",
      "Epoch 61/100\n",
      "13/13 [==============================] - 14s 1s/step - loss: 0.0135 - val_loss: 0.0135\n",
      "Epoch 62/100\n",
      "13/13 [==============================] - 14s 1s/step - loss: 0.0135 - val_loss: 0.0135\n",
      "Epoch 63/100\n",
      "13/13 [==============================] - 14s 1s/step - loss: 0.0134 - val_loss: 0.0135\n",
      "Epoch 64/100\n",
      "13/13 [==============================] - 14s 1s/step - loss: 0.0136 - val_loss: 0.0133\n",
      "Epoch 65/100\n",
      "13/13 [==============================] - 14s 1s/step - loss: 0.0132 - val_loss: 0.0134\n",
      "Epoch 66/100\n",
      "13/13 [==============================] - 14s 1s/step - loss: 0.0136 - val_loss: 0.0132\n",
      "Epoch 67/100\n",
      "13/13 [==============================] - 14s 1s/step - loss: 0.0129 - val_loss: 0.0134\n",
      "Epoch 68/100\n",
      "13/13 [==============================] - 14s 1s/step - loss: 0.0134 - val_loss: 0.0135\n",
      "Epoch 69/100\n",
      "13/13 [==============================] - 14s 1s/step - loss: 0.0130 - val_loss: 0.0133\n",
      "Epoch 70/100\n",
      "13/13 [==============================] - 14s 1s/step - loss: 0.0132 - val_loss: 0.0132\n",
      "Epoch 71/100\n",
      "13/13 [==============================] - 14s 1s/step - loss: 0.0133 - val_loss: 0.0132\n",
      "Epoch 72/100\n",
      "13/13 [==============================] - 14s 1s/step - loss: 0.0130 - val_loss: 0.0134\n",
      "Epoch 73/100\n",
      "13/13 [==============================] - 14s 1s/step - loss: 0.0131 - val_loss: 0.0130\n",
      "Epoch 74/100\n",
      "13/13 [==============================] - 14s 1s/step - loss: 0.0132 - val_loss: 0.0132\n",
      "Epoch 75/100\n",
      "13/13 [==============================] - 14s 1s/step - loss: 0.0129 - val_loss: 0.0133\n",
      "Epoch 76/100\n",
      "13/13 [==============================] - 14s 1s/step - loss: 0.0128 - val_loss: 0.0130\n",
      "Epoch 77/100\n",
      "13/13 [==============================] - 14s 1s/step - loss: 0.0131 - val_loss: 0.0133\n",
      "Epoch 78/100\n",
      "13/13 [==============================] - 14s 1s/step - loss: 0.0131 - val_loss: 0.0127\n",
      "Epoch 79/100\n",
      "13/13 [==============================] - 14s 1s/step - loss: 0.0130 - val_loss: 0.0129\n",
      "Epoch 80/100\n",
      "13/13 [==============================] - 14s 1s/step - loss: 0.0129 - val_loss: 0.0132\n",
      "Epoch 81/100\n",
      "13/13 [==============================] - 14s 1s/step - loss: 0.0130 - val_loss: 0.0131\n",
      "Epoch 82/100\n",
      "13/13 [==============================] - 14s 1s/step - loss: 0.0130 - val_loss: 0.0129\n",
      "Epoch 83/100\n"
     ]
    },
    {
     "name": "stdout",
     "output_type": "stream",
     "text": [
      "13/13 [==============================] - 14s 1s/step - loss: 0.0129 - val_loss: 0.0128\n",
      "Epoch 84/100\n",
      "13/13 [==============================] - 14s 1s/step - loss: 0.0128 - val_loss: 0.0131\n",
      "Epoch 85/100\n",
      "13/13 [==============================] - 14s 1s/step - loss: 0.0130 - val_loss: 0.0126\n",
      "Epoch 86/100\n",
      "13/13 [==============================] - 14s 1s/step - loss: 0.0129 - val_loss: 0.0129\n",
      "Epoch 87/100\n",
      "13/13 [==============================] - 14s 1s/step - loss: 0.0130 - val_loss: 0.0129\n",
      "Epoch 88/100\n",
      "13/13 [==============================] - 14s 1s/step - loss: 0.0128 - val_loss: 0.0126\n",
      "Epoch 89/100\n",
      "13/13 [==============================] - 14s 1s/step - loss: 0.0129 - val_loss: 0.0126\n",
      "Epoch 90/100\n",
      "13/13 [==============================] - 14s 1s/step - loss: 0.0130 - val_loss: 0.0126\n",
      "Epoch 91/100\n",
      "13/13 [==============================] - 14s 1s/step - loss: 0.0128 - val_loss: 0.0130\n",
      "Epoch 92/100\n",
      "13/13 [==============================] - 14s 1s/step - loss: 0.0125 - val_loss: 0.0128\n",
      "Epoch 93/100\n",
      "13/13 [==============================] - 14s 1s/step - loss: 0.0128 - val_loss: 0.0127\n",
      "Epoch 94/100\n",
      "13/13 [==============================] - 14s 1s/step - loss: 0.0129 - val_loss: 0.0125\n",
      "Epoch 95/100\n",
      "13/13 [==============================] - 14s 1s/step - loss: 0.0127 - val_loss: 0.0128\n",
      "Epoch 96/100\n",
      "13/13 [==============================] - 14s 1s/step - loss: 0.0127 - val_loss: 0.0127\n",
      "Epoch 97/100\n",
      "13/13 [==============================] - 14s 1s/step - loss: 0.0128 - val_loss: 0.0130\n",
      "Epoch 98/100\n",
      "13/13 [==============================] - 14s 1s/step - loss: 0.0129 - val_loss: 0.0128\n",
      "Epoch 99/100\n",
      "13/13 [==============================] - 14s 1s/step - loss: 0.0127 - val_loss: 0.0127\n",
      "Epoch 100/100\n",
      "13/13 [==============================] - 14s 1s/step - loss: 0.0125 - val_loss: 0.0124\n"
     ]
    }
   ],
   "source": [
    "model_training=autoencoder.fit_generator(\n",
    "        train_generator,\n",
    "        steps_per_epoch=13,\n",
    "        epochs=100,\n",
    "        validation_data=train_generator,\n",
    "        validation_steps=13)"
   ]
  },
  {
   "cell_type": "markdown",
   "metadata": {},
   "source": [
    "It does look like the loss reduces and converges around 0.06-0.07. Here is the plot for the loss and validation loss for the 2nd model."
   ]
  },
  {
   "cell_type": "code",
   "execution_count": 133,
   "metadata": {},
   "outputs": [
    {
     "data": {
      "text/plain": [
       "Text(0.5, 1.0, 'Validation Loss')"
      ]
     },
     "execution_count": 133,
     "metadata": {},
     "output_type": "execute_result"
    },
    {
     "data": {
      "image/png": "[encoded data removed]",
      "text/plain": [
       "<Figure size 720x360 with 2 Axes>"
      ]
     },
     "metadata": {
      "needs_background": "light"
     },
     "output_type": "display_data"
    }
   ],
   "source": [
    "fig,ax = plt.subplots(1,2,figsize=(10,5))\n",
    "ax[0].plot(model_training.history['loss']);\n",
    "ax[0].set_title(\"Loss\")\n",
    "ax[1].plot(model_training.history['val_loss'])\n",
    "ax[1].set_title(\"Validation Loss\")"
   ]
  },
  {
   "cell_type": "markdown",
   "metadata": {},
   "source": [
    "Since the test 2nd run shows that the model indeed converges around 0.06-0.07, I will continue using the 1st trained model. "
   ]
  },
  {
   "cell_type": "markdown",
   "metadata": {},
   "source": [
    "Here, I want to take a look how the autoencoder is reducing one of the pictures as an example. "
   ]
  },
  {
   "cell_type": "code",
   "execution_count": 139,
   "metadata": {},
   "outputs": [
    {
     "data": {
      "image/png": "[encoded data removed]",
      "text/plain": [
       "<PIL.Image.Image image mode=RGB size=120x120 at 0x1F3CDF88>"
      ]
     },
     "execution_count": 139,
     "metadata": {},
     "output_type": "execute_result"
    }
   ],
   "source": [
    "image = image_utils.load_img(\"images/all/pikachu.png\")\n",
    "image = image_utils.img_to_array(image)\n",
    "image_utils.array_to_img(image)"
   ]
  },
  {
   "cell_type": "code",
   "execution_count": 140,
   "metadata": {},
   "outputs": [
    {
     "data": {
      "image/png": "[encoded data removed]",
      "text/plain": [
       "<PIL.Image.Image image mode=RGB size=120x120 at 0x1F40CE08>"
      ]
     },
     "execution_count": 140,
     "metadata": {},
     "output_type": "execute_result"
    }
   ],
   "source": [
    "image = np.expand_dims(image, axis=0)\n",
    "ae_image = autoencoder.predict(image)\n",
    "image_utils.array_to_img(ae_image[0,:, :, :])"
   ]
  },
  {
   "cell_type": "markdown",
   "metadata": {},
   "source": [
    "Let me save the model and its weights for future use. I will also save just the encoder part of the model. "
   ]
  },
  {
   "cell_type": "code",
   "execution_count": 141,
   "metadata": {},
   "outputs": [],
   "source": [
    "#pickle.dump(autoencoder, open(\"autoencoder_pokemon.m\", 'wb'))\n",
    "autoencoder.save(\"model/autoencoder_pokemon.h5\")\n",
    "encoder = Model(inputs=autoencoder.input, outputs=autoencoder.get_layer('encoder').output)\n",
    "encoder.save(\"model/encoder_pokemon.h5\")"
   ]
  },
  {
   "cell_type": "markdown",
   "metadata": {},
   "source": [
    "Now, I will run the encoder for all the training dataset images and save their encodings. These will later be used for classfication task with a new image using cosine distance. "
   ]
  },
  {
   "cell_type": "code",
   "execution_count": 142,
   "metadata": {},
   "outputs": [],
   "source": [
    "def makeEncoding(imagePath,encoder):\n",
    "    image = image_utils.load_img(imagePath, target_size=(120, 120))\n",
    "    image = image_utils.img_to_array(image)\n",
    "    image = np.expand_dims(image, axis=0)\n",
    "    #image = image/255\n",
    "    encodeVal = encoder.predict(image)\n",
    "    flatVal = encodeVal.flatten()\n",
    "    return flatVal"
   ]
  },
  {
   "cell_type": "code",
   "execution_count": 143,
   "metadata": {},
   "outputs": [],
   "source": [
    "pokemon_images = glob.glob(\"./images/all/*\")\n",
    "getEncoding = lambda x: makeEncoding(x,encoder)\n",
    "pokemonEncoding = list(map(getEncoding, pokemon_images))\n",
    "pokemonEncoding =pd.DataFrame (np.row_stack(pokemonEncoding))"
   ]
  },
  {
   "cell_type": "code",
   "execution_count": 148,
   "metadata": {},
   "outputs": [
    {
     "name": "stdout",
     "output_type": "stream",
     "text": [
      "Shape of the Encoded list is (808, 800)\n"
     ]
    },
    {
     "data": {
      "text/html": [
       "<div>\n",
       "<style scoped>\n",
       "    .dataframe tbody tr th:only-of-type {\n",
       "        vertical-align: middle;\n",
       "    }\n",
       "\n",
       "    .dataframe tbody tr th {\n",
       "        vertical-align: top;\n",
       "    }\n",
       "\n",
       "    .dataframe thead th {\n",
       "        text-align: right;\n",
       "    }\n",
       "</style>\n",
       "<table border=\"1\" class=\"dataframe\">\n",
       "  <thead>\n",
       "    <tr style=\"text-align: right;\">\n",
       "      <th></th>\n",
       "      <th>0</th>\n",
       "      <th>1</th>\n",
       "      <th>2</th>\n",
       "      <th>3</th>\n",
       "      <th>4</th>\n",
       "      <th>5</th>\n",
       "      <th>6</th>\n",
       "      <th>7</th>\n",
       "      <th>8</th>\n",
       "      <th>9</th>\n",
       "      <th>...</th>\n",
       "      <th>790</th>\n",
       "      <th>791</th>\n",
       "      <th>792</th>\n",
       "      <th>793</th>\n",
       "      <th>794</th>\n",
       "      <th>795</th>\n",
       "      <th>796</th>\n",
       "      <th>797</th>\n",
       "      <th>798</th>\n",
       "      <th>799</th>\n",
       "    </tr>\n",
       "  </thead>\n",
       "  <tbody>\n",
       "    <tr>\n",
       "      <td>0</td>\n",
       "      <td>0.359606</td>\n",
       "      <td>0.0</td>\n",
       "      <td>0.117931</td>\n",
       "      <td>0.544924</td>\n",
       "      <td>0.84152</td>\n",
       "      <td>0.0</td>\n",
       "      <td>0.996454</td>\n",
       "      <td>0.541521</td>\n",
       "      <td>0.267819</td>\n",
       "      <td>0.0</td>\n",
       "      <td>...</td>\n",
       "      <td>0.996182</td>\n",
       "      <td>0.551</td>\n",
       "      <td>0.267467</td>\n",
       "      <td>0.12623</td>\n",
       "      <td>0.0</td>\n",
       "      <td>0.531815</td>\n",
       "      <td>0.838545</td>\n",
       "      <td>0.11061</td>\n",
       "      <td>0.996182</td>\n",
       "      <td>0.551</td>\n",
       "    </tr>\n",
       "    <tr>\n",
       "      <td>1</td>\n",
       "      <td>0.359606</td>\n",
       "      <td>0.0</td>\n",
       "      <td>0.117931</td>\n",
       "      <td>0.544924</td>\n",
       "      <td>0.84152</td>\n",
       "      <td>0.0</td>\n",
       "      <td>0.996454</td>\n",
       "      <td>0.541521</td>\n",
       "      <td>0.267819</td>\n",
       "      <td>0.0</td>\n",
       "      <td>...</td>\n",
       "      <td>0.996182</td>\n",
       "      <td>0.551</td>\n",
       "      <td>0.267467</td>\n",
       "      <td>0.12623</td>\n",
       "      <td>0.0</td>\n",
       "      <td>0.531815</td>\n",
       "      <td>0.838545</td>\n",
       "      <td>0.11061</td>\n",
       "      <td>0.996182</td>\n",
       "      <td>0.551</td>\n",
       "    </tr>\n",
       "    <tr>\n",
       "      <td>2</td>\n",
       "      <td>0.359606</td>\n",
       "      <td>0.0</td>\n",
       "      <td>0.117931</td>\n",
       "      <td>0.544924</td>\n",
       "      <td>0.84152</td>\n",
       "      <td>0.0</td>\n",
       "      <td>0.996454</td>\n",
       "      <td>0.541521</td>\n",
       "      <td>0.267819</td>\n",
       "      <td>0.0</td>\n",
       "      <td>...</td>\n",
       "      <td>0.996182</td>\n",
       "      <td>0.551</td>\n",
       "      <td>0.267467</td>\n",
       "      <td>0.12623</td>\n",
       "      <td>0.0</td>\n",
       "      <td>0.531815</td>\n",
       "      <td>0.838545</td>\n",
       "      <td>0.11061</td>\n",
       "      <td>0.996182</td>\n",
       "      <td>0.551</td>\n",
       "    </tr>\n",
       "    <tr>\n",
       "      <td>3</td>\n",
       "      <td>0.359606</td>\n",
       "      <td>0.0</td>\n",
       "      <td>0.117931</td>\n",
       "      <td>0.544924</td>\n",
       "      <td>0.84152</td>\n",
       "      <td>0.0</td>\n",
       "      <td>0.996454</td>\n",
       "      <td>0.541521</td>\n",
       "      <td>0.267819</td>\n",
       "      <td>0.0</td>\n",
       "      <td>...</td>\n",
       "      <td>0.996182</td>\n",
       "      <td>0.551</td>\n",
       "      <td>0.267467</td>\n",
       "      <td>0.12623</td>\n",
       "      <td>0.0</td>\n",
       "      <td>0.531815</td>\n",
       "      <td>0.838545</td>\n",
       "      <td>0.11061</td>\n",
       "      <td>0.996182</td>\n",
       "      <td>0.551</td>\n",
       "    </tr>\n",
       "    <tr>\n",
       "      <td>4</td>\n",
       "      <td>0.359606</td>\n",
       "      <td>0.0</td>\n",
       "      <td>0.117931</td>\n",
       "      <td>0.544924</td>\n",
       "      <td>0.84152</td>\n",
       "      <td>0.0</td>\n",
       "      <td>0.996454</td>\n",
       "      <td>0.541521</td>\n",
       "      <td>0.267819</td>\n",
       "      <td>0.0</td>\n",
       "      <td>...</td>\n",
       "      <td>0.996182</td>\n",
       "      <td>0.551</td>\n",
       "      <td>0.267467</td>\n",
       "      <td>0.12623</td>\n",
       "      <td>0.0</td>\n",
       "      <td>0.531815</td>\n",
       "      <td>0.838545</td>\n",
       "      <td>0.11061</td>\n",
       "      <td>0.996182</td>\n",
       "      <td>0.551</td>\n",
       "    </tr>\n",
       "  </tbody>\n",
       "</table>\n",
       "<p>5 rows × 800 columns</p>\n",
       "</div>"
      ],
      "text/plain": [
       "        0    1         2         3        4    5         6         7    \\\n",
       "0  0.359606  0.0  0.117931  0.544924  0.84152  0.0  0.996454  0.541521   \n",
       "1  0.359606  0.0  0.117931  0.544924  0.84152  0.0  0.996454  0.541521   \n",
       "2  0.359606  0.0  0.117931  0.544924  0.84152  0.0  0.996454  0.541521   \n",
       "3  0.359606  0.0  0.117931  0.544924  0.84152  0.0  0.996454  0.541521   \n",
       "4  0.359606  0.0  0.117931  0.544924  0.84152  0.0  0.996454  0.541521   \n",
       "\n",
       "        8    9    ...       790    791       792      793  794       795  \\\n",
       "0  0.267819  0.0  ...  0.996182  0.551  0.267467  0.12623  0.0  0.531815   \n",
       "1  0.267819  0.0  ...  0.996182  0.551  0.267467  0.12623  0.0  0.531815   \n",
       "2  0.267819  0.0  ...  0.996182  0.551  0.267467  0.12623  0.0  0.531815   \n",
       "3  0.267819  0.0  ...  0.996182  0.551  0.267467  0.12623  0.0  0.531815   \n",
       "4  0.267819  0.0  ...  0.996182  0.551  0.267467  0.12623  0.0  0.531815   \n",
       "\n",
       "        796      797       798    799  \n",
       "0  0.838545  0.11061  0.996182  0.551  \n",
       "1  0.838545  0.11061  0.996182  0.551  \n",
       "2  0.838545  0.11061  0.996182  0.551  \n",
       "3  0.838545  0.11061  0.996182  0.551  \n",
       "4  0.838545  0.11061  0.996182  0.551  \n",
       "\n",
       "[5 rows x 800 columns]"
      ]
     },
     "execution_count": 148,
     "metadata": {},
     "output_type": "execute_result"
    }
   ],
   "source": [
    "print (\"Shape of the Encoded list is \"+str(pokemonEncoding.shape))\n",
    "pokemonEncoding.head()"
   ]
  },
  {
   "cell_type": "markdown",
   "metadata": {},
   "source": [
    "Now let us test whether this can be used as a classifier using cosine distance as a means of finding the closest similar pokemon in the n dimensional space representation from the autoencoder. I do specify the target size here since the model only takes 120,120,3 images. "
   ]
  },
  {
   "cell_type": "code",
   "execution_count": 169,
   "metadata": {},
   "outputs": [
    {
     "data": {
      "image/png": "[encoded data removed]",
      "text/plain": [
       "<PIL.Image.Image image mode=RGB size=120x120 at 0x1E250948>"
      ]
     },
     "execution_count": 169,
     "metadata": {},
     "output_type": "execute_result"
    }
   ],
   "source": [
    "test_img = image_utils.load_img(\"test/pika_test.png\", target_size=(120, 120))\n",
    "test_img = image_utils.img_to_array(test_img)\n",
    "image_utils.array_to_img(test_img)"
   ]
  },
  {
   "cell_type": "markdown",
   "metadata": {},
   "source": [
    "To use this as a classifier, I am going to see the closest picture from the training set to this after running through the encoder. "
   ]
  },
  {
   "cell_type": "code",
   "execution_count": 170,
   "metadata": {},
   "outputs": [
    {
     "data": {
      "text/plain": [
       "'./images/all\\\\seismitoad.png'"
      ]
     },
     "execution_count": 170,
     "metadata": {},
     "output_type": "execute_result"
    },
    {
     "data": {
      "image/png": "[encoded data removed]",
      "text/plain": [
       "<Figure size 432x288 with 1 Axes>"
      ]
     },
     "metadata": {
      "needs_background": "light"
     },
     "output_type": "display_data"
    }
   ],
   "source": [
    "test_img = np.expand_dims(test_img, axis=0)\n",
    "encodeTest = encoder.predict(test_img)\n",
    "encodeFlat = encodeTest.flatten()\n",
    "cosineVals = cosine_similarity(encodeFlat.reshape(1,-1),pokemonEncoding)\n",
    "simIndex = np.where(cosineVals == np.amax(cosineVals))[1][0]\n",
    "plt.imshow(mpimg.imread(pokemon_images[simIndex]))\n",
    "pokemon_images[simIndex]"
   ]
  },
  {
   "cell_type": "markdown",
   "metadata": {},
   "source": [
    "As you can see, this method does not work well. It thinks the pikachu is a seismitoad. I think the auto encoder does well to capture the shape (border) of the pokemon well but doesnt do well to capture the patterns and colors. This makes it less suitable in this application as the different pictures of the same pokemon can be very different shapes. A Convolutional neural network is probably much better suited for this application given you can get enough training dataset. "
   ]
  }
 ],
 "metadata": {
  "kernelspec": {
   "display_name": "Python 3",
   "language": "python",
   "name": "python3"
  },
  "language_info": {
   "codemirror_mode": {
    "name": "ipython",
    "version": 3
   },
   "file_extension": ".py",
   "mimetype": "text/x-python",
   "name": "python",
   "nbconvert_exporter": "python",
   "pygments_lexer": "ipython3",
   "version": "3.7.4"
  }
 },
 "nbformat": 4,
 "nbformat_minor": 2
}
